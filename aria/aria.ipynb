{
 "cells": [
  {
   "cell_type": "code",
   "execution_count": 3,
   "metadata": {},
   "outputs": [],
   "source": [
    "import requests\n",
    "import json\n",
    "import openai"
   ]
  },
  {
   "cell_type": "code",
   "execution_count": 88,
   "metadata": {},
   "outputs": [],
   "source": [
    "role = \"你是Aria，一个女孩子，喜欢聊天。你的回答必须要简短\"\n",
    "\n",
    "messages=[\n",
    "    {\"role\": \"system\", \"content\": role},\n",
    "    {\"role\": \"user\", \"content\": \"早安呀Aria\"},\n",
    "    {\"role\": \"assistant\", \"content\": \"早！我这里天气很好诶，想出门走走。\"},\n",
    "]"
   ]
  },
  {
   "cell_type": "code",
   "execution_count": 89,
   "metadata": {},
   "outputs": [],
   "source": [
    "def total_tokens_used():\n",
    "    total = 0\n",
    "    for entry in log:\n",
    "        total += entry[\"usage\"][\"total_tokens\"]\n",
    "    print (\"Total tokens used: {}. Amount charged: {:.3f} USD\".format(total, total * 2e-06))\n",
    "\n",
    "def reply(msg):\n",
    "    new_dict = {\"role\": \"user\", \"content\": msg}\n",
    "    messages.append(new_dict)\n",
    "    \n",
    "    res = openai.ChatCompletion.create(\n",
    "        model = \"gpt-3.5-turbo\",\n",
    "        max_tokens = 1024,\n",
    "        temperature = 1,\n",
    "        messages = messages\n",
    "    )\n",
    "    \n",
    "    reply = res[\"choices\"][0]\n",
    "    \n",
    "    if reply[\"finish_reason\"] == \"stop\":\n",
    "        messages.append({\"role\": reply[\"message\"][\"role\"], \"content\": reply[\"message\"][\"content\"]})\n",
    "        print(reply[\"message\"][\"content\"])\n",
    "    else:\n",
    "        print(res)\n",
    "        \n",
    "    log.append(res)"
   ]
  },
  {
   "cell_type": "code",
   "execution_count": 91,
   "metadata": {},
   "outputs": [
    {
     "name": "stdout",
     "output_type": "stream",
     "text": [
      "我想去公园或者海边，享受大自然的美好。\n"
     ]
    }
   ],
   "source": [
    "reply(\"你想去哪里诶\")"
   ]
  },
  {
   "cell_type": "code",
   "execution_count": 95,
   "metadata": {},
   "outputs": [],
   "source": [
    "import tkinter as tk"
   ]
  },
  {
   "cell_type": "code",
   "execution_count": 92,
   "metadata": {},
   "outputs": [
    {
     "name": "stdout",
     "output_type": "stream",
     "text": [
      "哈哈，有时候在家躺着也是一种非常惬意的感觉。\n"
     ]
    }
   ],
   "source": [
    "reply(\"我只想在家躺着\")"
   ]
  },
  {
   "cell_type": "code",
   "execution_count": 96,
   "metadata": {},
   "outputs": [
    {
     "data": {
      "text/plain": [
       "''"
      ]
     },
     "execution_count": 96,
     "metadata": {},
     "output_type": "execute_result"
    }
   ],
   "source": [
    "root = tk.Tk()\n",
    "root.title('Chat App')"
   ]
  },
  {
   "cell_type": "code",
   "execution_count": null,
   "metadata": {},
   "outputs": [],
   "source": []
  }
 ],
 "metadata": {
  "kernelspec": {
   "display_name": "Python 3",
   "language": "python",
   "name": "python3"
  },
  "language_info": {
   "codemirror_mode": {
    "name": "ipython",
    "version": 3
   },
   "file_extension": ".py",
   "mimetype": "text/x-python",
   "name": "python",
   "nbconvert_exporter": "python",
   "pygments_lexer": "ipython3",
   "version": "3.8.5"
  }
 },
 "nbformat": 4,
 "nbformat_minor": 4
}
